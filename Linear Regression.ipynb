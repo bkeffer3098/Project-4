{
 "cells": [
  {
   "cell_type": "code",
   "execution_count": 1,
   "id": "af6a33dc",
   "metadata": {},
   "outputs": [],
   "source": [
    "import pandas as pd\n",
    "from sklearn.metrics import mean_absolute_error, r2_score"
   ]
  },
  {
   "cell_type": "code",
   "execution_count": 2,
   "id": "460d9ca1",
   "metadata": {},
   "outputs": [
    {
     "data": {
      "text/html": [
       "<div>\n",
       "<style scoped>\n",
       "    .dataframe tbody tr th:only-of-type {\n",
       "        vertical-align: middle;\n",
       "    }\n",
       "\n",
       "    .dataframe tbody tr th {\n",
       "        vertical-align: top;\n",
       "    }\n",
       "\n",
       "    .dataframe thead th {\n",
       "        text-align: right;\n",
       "    }\n",
       "</style>\n",
       "<table border=\"1\" class=\"dataframe\">\n",
       "  <thead>\n",
       "    <tr style=\"text-align: right;\">\n",
       "      <th></th>\n",
       "      <th>Counties</th>\n",
       "      <th>Units Sold</th>\n",
       "      <th>Units Sold % Chg</th>\n",
       "      <th>Average Price</th>\n",
       "      <th>Price % Chg</th>\n",
       "      <th>Year</th>\n",
       "    </tr>\n",
       "  </thead>\n",
       "  <tbody>\n",
       "    <tr>\n",
       "      <th>0</th>\n",
       "      <td>Allegany County</td>\n",
       "      <td>541</td>\n",
       "      <td>0.055</td>\n",
       "      <td>93125</td>\n",
       "      <td>0.034</td>\n",
       "      <td>2015</td>\n",
       "    </tr>\n",
       "    <tr>\n",
       "      <th>1</th>\n",
       "      <td>Anne Arundel County</td>\n",
       "      <td>7909</td>\n",
       "      <td>0.130</td>\n",
       "      <td>361671</td>\n",
       "      <td>0.022</td>\n",
       "      <td>2015</td>\n",
       "    </tr>\n",
       "    <tr>\n",
       "      <th>2</th>\n",
       "      <td>Baltimore City</td>\n",
       "      <td>7998</td>\n",
       "      <td>0.067</td>\n",
       "      <td>158067</td>\n",
       "      <td>0.091</td>\n",
       "      <td>2015</td>\n",
       "    </tr>\n",
       "    <tr>\n",
       "      <th>3</th>\n",
       "      <td>Baltimore County</td>\n",
       "      <td>9890</td>\n",
       "      <td>0.085</td>\n",
       "      <td>249652</td>\n",
       "      <td>0.053</td>\n",
       "      <td>2015</td>\n",
       "    </tr>\n",
       "    <tr>\n",
       "      <th>4</th>\n",
       "      <td>Calvert County</td>\n",
       "      <td>1451</td>\n",
       "      <td>0.150</td>\n",
       "      <td>311314</td>\n",
       "      <td>0.008</td>\n",
       "      <td>2015</td>\n",
       "    </tr>\n",
       "  </tbody>\n",
       "</table>\n",
       "</div>"
      ],
      "text/plain": [
       "              Counties  Units Sold  Units Sold % Chg  Average Price  \\\n",
       "0      Allegany County         541             0.055          93125   \n",
       "1  Anne Arundel County        7909             0.130         361671   \n",
       "2       Baltimore City        7998             0.067         158067   \n",
       "3     Baltimore County        9890             0.085         249652   \n",
       "4       Calvert County        1451             0.150         311314   \n",
       "\n",
       "   Price % Chg  Year  \n",
       "0        0.034  2015  \n",
       "1        0.022  2015  \n",
       "2        0.091  2015  \n",
       "3        0.053  2015  \n",
       "4        0.008  2015  "
      ]
     },
     "execution_count": 2,
     "metadata": {},
     "output_type": "execute_result"
    }
   ],
   "source": [
    "# Load in csv\n",
    "homes = pd.read_csv(\"Resources/All_stats.csv\")\n",
    "homes.head()"
   ]
  }
 ],
 "metadata": {
  "kernelspec": {
   "display_name": "Python 3 (ipykernel)",
   "language": "python",
   "name": "python3"
  },
  "language_info": {
   "codemirror_mode": {
    "name": "ipython",
    "version": 3
   },
   "file_extension": ".py",
   "mimetype": "text/x-python",
   "name": "python",
   "nbconvert_exporter": "python",
   "pygments_lexer": "ipython3",
   "version": "3.11.4"
  }
 },
 "nbformat": 4,
 "nbformat_minor": 5
}
